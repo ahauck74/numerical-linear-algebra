{
 "cells": [
  {
   "cell_type": "markdown",
   "metadata": {},
   "source": [
    "# 0. Exercises and Practice"
   ]
  },
  {
   "cell_type": "markdown",
   "metadata": {},
   "source": [
    "## Array Manipulations -- From SciPy Lecture Notes"
   ]
  },
  {
   "cell_type": "markdown",
   "metadata": {},
   "source": [
    "### 1. Form the 2-D array (without typing it in explicitly)::\n",
    "\n",
    "        [[1,  6, 11],\n",
    "         [2,  7, 12],\n",
    "         [3,  8, 13],\n",
    "         [4,  9, 14],\n",
    "         [5, 10, 15]]\n",
    "\n",
    "   and generate a new array containing its 2nd and 4th rows."
   ]
  },
  {
   "cell_type": "code",
   "execution_count": 1,
   "metadata": {},
   "outputs": [],
   "source": [
    "#Put your additional code to answer the exercise here!\n",
    "import numpy as np\n",
    "a = np.arange(1,16,dtype=int)\n",
    "a = a.reshape(3,5)\n",
    "a = np.transpose(a)"
   ]
  },
  {
   "cell_type": "code",
   "execution_count": 2,
   "metadata": {},
   "outputs": [
    {
     "name": "stdout",
     "output_type": "stream",
     "text": [
      "[[ 1  6 11]\n",
      " [ 2  7 12]\n",
      " [ 3  8 13]\n",
      " [ 4  9 14]\n",
      " [ 5 10 15]]\n"
     ]
    }
   ],
   "source": [
    "print(a)\n",
    "b = np.array([a[1,:], a[3,:]])"
   ]
  },
  {
   "cell_type": "code",
   "execution_count": 3,
   "metadata": {},
   "outputs": [
    {
     "name": "stdout",
     "output_type": "stream",
     "text": [
      "[[ 2  7 12]\n",
      " [ 4  9 14]]\n"
     ]
    }
   ],
   "source": [
    "print(b)"
   ]
  },
  {
   "cell_type": "markdown",
   "metadata": {},
   "source": [
    "### 2. Divide each column of the array ``a`` elementwise with the array ``b``.\n",
    "\n",
    "(Hint: ``np.newaxis``)."
   ]
  },
  {
   "cell_type": "code",
   "execution_count": 4,
   "metadata": {},
   "outputs": [
    {
     "name": "stdout",
     "output_type": "stream",
     "text": [
      "[ 1.  5. 10. 15. 20.]\n"
     ]
    }
   ],
   "source": [
    "import numpy as np\n",
    "a = np.arange(25).reshape(5, 5)\n",
    "b = np.array([1., 5, 10, 15, 20])\n",
    "print(b)"
   ]
  },
  {
   "cell_type": "code",
   "execution_count": 5,
   "metadata": {},
   "outputs": [
    {
     "name": "stdout",
     "output_type": "stream",
     "text": [
      "[[ 1.]\n",
      " [ 5.]\n",
      " [10.]\n",
      " [15.]\n",
      " [20.]]\n",
      "[[  0.   1.   2.   3.   4.]\n",
      " [ 25.  30.  35.  40.  45.]\n",
      " [100. 110. 120. 130. 140.]\n",
      " [225. 240. 255. 270. 285.]\n",
      " [400. 420. 440. 460. 480.]]\n"
     ]
    }
   ],
   "source": [
    "#Put your additional code to answer the exercise here!\n",
    "column = b[:, np.newaxis]\n",
    "print(column)\n",
    "\n",
    "rslt = a*column\n",
    "print(rslt)"
   ]
  },
  {
   "cell_type": "markdown",
   "metadata": {},
   "source": [
    "### 3. Harder one: Generate a 10 x 3 array of random numbers (in range [0,1]).\n",
    "   For each row, pick the number closest to 0.5.\n",
    "\n",
    "   - Use ``abs`` and ``argsort`` to find the column ``j`` closest for\n",
    "     each row.\n",
    "\n",
    "   - Use fancy indexing to extract the numbers.  (Hint: ``a[i,j]`` --\n",
    "     the array ``i`` must contain the row numbers corresponding to stuff in\n",
    "     ``j``.)"
   ]
  },
  {
   "cell_type": "code",
   "execution_count": 6,
   "metadata": {},
   "outputs": [
    {
     "name": "stdout",
     "output_type": "stream",
     "text": [
      "[[5.57302173e-01 5.31993940e-02 2.87529572e-01]\n",
      " [5.22371350e-01 3.84416276e-01 4.77214963e-02]\n",
      " [3.98944583e-01 2.59835337e-01 8.61697616e-01]\n",
      " [5.37026742e-01 8.29816080e-01 5.51430762e-01]\n",
      " [3.63496326e-01 9.94113384e-01 7.73064748e-01]\n",
      " [6.56744403e-01 7.16465256e-01 2.31286638e-01]\n",
      " [3.27770993e-01 1.15830222e-04 9.17942551e-01]\n",
      " [6.64229354e-01 2.81583735e-01 3.05494813e-02]\n",
      " [1.14321017e-01 4.44319934e-02 6.89716593e-03]\n",
      " [7.14129707e-01 2.47483800e-01 3.83738037e-01]]\n",
      "[0.55730217 0.52237135 0.86169762 0.82981608 0.99411338 0.71646526\n",
      " 0.91794255 0.66422935 0.11432102 0.71412971]\n"
     ]
    }
   ],
   "source": [
    "#Put your additional code to answer the exercise here!\n",
    "\n",
    "\n",
    "a = np.random.uniform(0,1,(10,3))\n",
    "sort = np.argsort(a)\n",
    "#Sort[i,-1] gives the index for the max value of row i in matrix a.\n",
    "rslt = np.asarray([a[i,sort[i,-1]] for i in range(a.shape[0])])\n",
    "\n",
    "print(a)\n",
    "print(rslt)"
   ]
  },
  {
   "cell_type": "markdown",
   "metadata": {},
   "source": [
    "## Some Basic Image Transformations"
   ]
  },
  {
   "cell_type": "markdown",
   "metadata": {},
   "source": [
    "Our goal in this set of code/exercises is to:\n",
    "* Create a simple grid of points in 2-D Space\n",
    "* Applied a graduated color scheme to those points\n",
    "* Plot the points\n",
    "* Perform some basic linear transformations on the points (and observe their movements)\n",
    "* (Advanced) -- Animate the transitions between the points.\n",
    "\n",
    "The cells below contains quite a bit of ``helper`` code to get going on some of the more difficult portions of these tasks (coloring, animation). If you are feeling adventuresome or confidence, try just adding a cell below THIS... and doing it all yourself! If not, use the portions below to get you jump-started.\n",
    "\n"
   ]
  },
  {
   "cell_type": "code",
   "execution_count": 7,
   "metadata": {},
   "outputs": [],
   "source": [
    "##Blank Cell for the Adventuresome!\n",
    "\n",
    "\n",
    "\n",
    "\n"
   ]
  },
  {
   "cell_type": "markdown",
   "metadata": {},
   "source": [
    "### Generating and Plotting the basic, colored points"
   ]
  },
  {
   "cell_type": "code",
   "execution_count": 31,
   "metadata": {},
   "outputs": [
    {
     "name": "stdout",
     "output_type": "stream",
     "text": [
      "[[-5 -5]\n",
      " [-5 -4]\n",
      " [-5 -3]\n",
      " [-5 -2]\n",
      " [-5 -1]\n",
      " [-5  0]\n",
      " [-5  1]\n",
      " [-5  2]\n",
      " [-5  3]\n",
      " [-5  4]\n",
      " [-4 -5]\n",
      " [-4 -4]\n",
      " [-4 -3]\n",
      " [-4 -2]\n",
      " [-4 -1]\n",
      " [-4  0]\n",
      " [-4  1]\n",
      " [-4  2]\n",
      " [-4  3]\n",
      " [-4  4]\n",
      " [-3 -5]\n",
      " [-3 -4]\n",
      " [-3 -3]\n",
      " [-3 -2]\n",
      " [-3 -1]\n",
      " [-3  0]\n",
      " [-3  1]\n",
      " [-3  2]\n",
      " [-3  3]\n",
      " [-3  4]\n",
      " [-2 -5]\n",
      " [-2 -4]\n",
      " [-2 -3]\n",
      " [-2 -2]\n",
      " [-2 -1]\n",
      " [-2  0]\n",
      " [-2  1]\n",
      " [-2  2]\n",
      " [-2  3]\n",
      " [-2  4]\n",
      " [-1 -5]\n",
      " [-1 -4]\n",
      " [-1 -3]\n",
      " [-1 -2]\n",
      " [-1 -1]\n",
      " [-1  0]\n",
      " [-1  1]\n",
      " [-1  2]\n",
      " [-1  3]\n",
      " [-1  4]\n",
      " [ 0 -5]\n",
      " [ 0 -4]\n",
      " [ 0 -3]\n",
      " [ 0 -2]\n",
      " [ 0 -1]\n",
      " [ 0  0]\n",
      " [ 0  1]\n",
      " [ 0  2]\n",
      " [ 0  3]\n",
      " [ 0  4]\n",
      " [ 1 -5]\n",
      " [ 1 -4]\n",
      " [ 1 -3]\n",
      " [ 1 -2]\n",
      " [ 1 -1]\n",
      " [ 1  0]\n",
      " [ 1  1]\n",
      " [ 1  2]\n",
      " [ 1  3]\n",
      " [ 1  4]\n",
      " [ 2 -5]\n",
      " [ 2 -4]\n",
      " [ 2 -3]\n",
      " [ 2 -2]\n",
      " [ 2 -1]\n",
      " [ 2  0]\n",
      " [ 2  1]\n",
      " [ 2  2]\n",
      " [ 2  3]\n",
      " [ 2  4]\n",
      " [ 3 -5]\n",
      " [ 3 -4]\n",
      " [ 3 -3]\n",
      " [ 3 -2]\n",
      " [ 3 -1]\n",
      " [ 3  0]\n",
      " [ 3  1]\n",
      " [ 3  2]\n",
      " [ 3  3]\n",
      " [ 3  4]\n",
      " [ 4 -5]\n",
      " [ 4 -4]\n",
      " [ 4 -3]\n",
      " [ 4 -2]\n",
      " [ 4 -1]\n",
      " [ 4  0]\n",
      " [ 4  1]\n",
      " [ 4  2]\n",
      " [ 4  3]\n",
      " [ 4  4]]\n",
      "(100, 3)\n"
     ]
    },
    {
     "ename": "AttributeError",
     "evalue": "'list' object has no attribute 'shape'",
     "output_type": "error",
     "traceback": [
      "\u001b[1;31m---------------------------------------------------------------------------\u001b[0m",
      "\u001b[1;31mKeyError\u001b[0m                                  Traceback (most recent call last)",
      "\u001b[1;32m~\\Anaconda3\\lib\\site-packages\\matplotlib\\colors.py\u001b[0m in \u001b[0;36mto_rgba\u001b[1;34m(c, alpha)\u001b[0m\n\u001b[0;32m    165\u001b[0m     \u001b[1;32mtry\u001b[0m\u001b[1;33m:\u001b[0m\u001b[1;33m\u001b[0m\u001b[0m\n\u001b[1;32m--> 166\u001b[1;33m         \u001b[0mrgba\u001b[0m \u001b[1;33m=\u001b[0m \u001b[0m_colors_full_map\u001b[0m\u001b[1;33m.\u001b[0m\u001b[0mcache\u001b[0m\u001b[1;33m[\u001b[0m\u001b[0mc\u001b[0m\u001b[1;33m,\u001b[0m \u001b[0malpha\u001b[0m\u001b[1;33m]\u001b[0m\u001b[1;33m\u001b[0m\u001b[0m\n\u001b[0m\u001b[0;32m    167\u001b[0m     \u001b[1;32mexcept\u001b[0m \u001b[1;33m(\u001b[0m\u001b[0mKeyError\u001b[0m\u001b[1;33m,\u001b[0m \u001b[0mTypeError\u001b[0m\u001b[1;33m)\u001b[0m\u001b[1;33m:\u001b[0m  \u001b[1;31m# Not in cache, or unhashable.\u001b[0m\u001b[1;33m\u001b[0m\u001b[0m\n",
      "\u001b[1;31mKeyError\u001b[0m: ((1, -0.6666666666666667, -0.0625), None)",
      "\nDuring handling of the above exception, another exception occurred:\n",
      "\u001b[1;31mValueError\u001b[0m                                Traceback (most recent call last)",
      "\u001b[1;32m~\\Anaconda3\\lib\\site-packages\\matplotlib\\axes\\_axes.py\u001b[0m in \u001b[0;36mscatter\u001b[1;34m(self, x, y, s, c, marker, cmap, norm, vmin, vmax, alpha, linewidths, verts, edgecolors, **kwargs)\u001b[0m\n\u001b[0;32m   4273\u001b[0m                 \u001b[1;31m# must be acceptable as PathCollection facecolors\u001b[0m\u001b[1;33m\u001b[0m\u001b[1;33m\u001b[0m\u001b[0m\n\u001b[1;32m-> 4274\u001b[1;33m                 \u001b[0mcolors\u001b[0m \u001b[1;33m=\u001b[0m \u001b[0mmcolors\u001b[0m\u001b[1;33m.\u001b[0m\u001b[0mto_rgba_array\u001b[0m\u001b[1;33m(\u001b[0m\u001b[0mc\u001b[0m\u001b[1;33m)\u001b[0m\u001b[1;33m\u001b[0m\u001b[0m\n\u001b[0m\u001b[0;32m   4275\u001b[0m             \u001b[1;32mexcept\u001b[0m \u001b[0mValueError\u001b[0m\u001b[1;33m:\u001b[0m\u001b[1;33m\u001b[0m\u001b[0m\n",
      "\u001b[1;32m~\\Anaconda3\\lib\\site-packages\\matplotlib\\colors.py\u001b[0m in \u001b[0;36mto_rgba_array\u001b[1;34m(c, alpha)\u001b[0m\n\u001b[0;32m    266\u001b[0m     \u001b[1;32mfor\u001b[0m \u001b[0mi\u001b[0m\u001b[1;33m,\u001b[0m \u001b[0mcc\u001b[0m \u001b[1;32min\u001b[0m \u001b[0menumerate\u001b[0m\u001b[1;33m(\u001b[0m\u001b[0mc\u001b[0m\u001b[1;33m)\u001b[0m\u001b[1;33m:\u001b[0m\u001b[1;33m\u001b[0m\u001b[0m\n\u001b[1;32m--> 267\u001b[1;33m         \u001b[0mresult\u001b[0m\u001b[1;33m[\u001b[0m\u001b[0mi\u001b[0m\u001b[1;33m]\u001b[0m \u001b[1;33m=\u001b[0m \u001b[0mto_rgba\u001b[0m\u001b[1;33m(\u001b[0m\u001b[0mcc\u001b[0m\u001b[1;33m,\u001b[0m \u001b[0malpha\u001b[0m\u001b[1;33m)\u001b[0m\u001b[1;33m\u001b[0m\u001b[0m\n\u001b[0m\u001b[0;32m    268\u001b[0m     \u001b[1;32mreturn\u001b[0m \u001b[0mresult\u001b[0m\u001b[1;33m\u001b[0m\u001b[0m\n",
      "\u001b[1;32m~\\Anaconda3\\lib\\site-packages\\matplotlib\\colors.py\u001b[0m in \u001b[0;36mto_rgba\u001b[1;34m(c, alpha)\u001b[0m\n\u001b[0;32m    167\u001b[0m     \u001b[1;32mexcept\u001b[0m \u001b[1;33m(\u001b[0m\u001b[0mKeyError\u001b[0m\u001b[1;33m,\u001b[0m \u001b[0mTypeError\u001b[0m\u001b[1;33m)\u001b[0m\u001b[1;33m:\u001b[0m  \u001b[1;31m# Not in cache, or unhashable.\u001b[0m\u001b[1;33m\u001b[0m\u001b[0m\n\u001b[1;32m--> 168\u001b[1;33m         \u001b[0mrgba\u001b[0m \u001b[1;33m=\u001b[0m \u001b[0m_to_rgba_no_colorcycle\u001b[0m\u001b[1;33m(\u001b[0m\u001b[0mc\u001b[0m\u001b[1;33m,\u001b[0m \u001b[0malpha\u001b[0m\u001b[1;33m)\u001b[0m\u001b[1;33m\u001b[0m\u001b[0m\n\u001b[0m\u001b[0;32m    169\u001b[0m         \u001b[1;32mtry\u001b[0m\u001b[1;33m:\u001b[0m\u001b[1;33m\u001b[0m\u001b[0m\n",
      "\u001b[1;32m~\\Anaconda3\\lib\\site-packages\\matplotlib\\colors.py\u001b[0m in \u001b[0;36m_to_rgba_no_colorcycle\u001b[1;34m(c, alpha)\u001b[0m\n\u001b[0;32m    228\u001b[0m     \u001b[1;32mif\u001b[0m \u001b[0many\u001b[0m\u001b[1;33m(\u001b[0m\u001b[0melem\u001b[0m \u001b[1;33m<\u001b[0m \u001b[1;36m0\u001b[0m \u001b[1;32mor\u001b[0m \u001b[0melem\u001b[0m \u001b[1;33m>\u001b[0m \u001b[1;36m1\u001b[0m \u001b[1;32mfor\u001b[0m \u001b[0melem\u001b[0m \u001b[1;32min\u001b[0m \u001b[0mc\u001b[0m\u001b[1;33m)\u001b[0m\u001b[1;33m:\u001b[0m\u001b[1;33m\u001b[0m\u001b[0m\n\u001b[1;32m--> 229\u001b[1;33m         \u001b[1;32mraise\u001b[0m \u001b[0mValueError\u001b[0m\u001b[1;33m(\u001b[0m\u001b[1;34m\"RGBA values should be within 0-1 range\"\u001b[0m\u001b[1;33m)\u001b[0m\u001b[1;33m\u001b[0m\u001b[0m\n\u001b[0m\u001b[0;32m    230\u001b[0m     \u001b[1;32mreturn\u001b[0m \u001b[0mc\u001b[0m\u001b[1;33m\u001b[0m\u001b[0m\n",
      "\u001b[1;31mValueError\u001b[0m: RGBA values should be within 0-1 range",
      "\nDuring handling of the above exception, another exception occurred:\n",
      "\u001b[1;31mAttributeError\u001b[0m                            Traceback (most recent call last)",
      "\u001b[1;32m<ipython-input-31-e5a72633eaf4>\u001b[0m in \u001b[0;36m<module>\u001b[1;34m()\u001b[0m\n\u001b[0;32m     38\u001b[0m \u001b[1;31m# Plot x-y grid points\u001b[0m\u001b[1;33m\u001b[0m\u001b[1;33m\u001b[0m\u001b[0m\n\u001b[0;32m     39\u001b[0m \u001b[0mplt\u001b[0m\u001b[1;33m.\u001b[0m\u001b[0mfigure\u001b[0m\u001b[1;33m(\u001b[0m\u001b[0mfigsize\u001b[0m\u001b[1;33m=\u001b[0m\u001b[1;33m(\u001b[0m\u001b[1;36m4\u001b[0m\u001b[1;33m,\u001b[0m \u001b[1;36m4\u001b[0m\u001b[1;33m)\u001b[0m\u001b[1;33m,\u001b[0m \u001b[0mfacecolor\u001b[0m\u001b[1;33m=\u001b[0m\u001b[1;34m\"w\"\u001b[0m\u001b[1;33m)\u001b[0m\u001b[1;33m\u001b[0m\u001b[0m\n\u001b[1;32m---> 40\u001b[1;33m \u001b[0mplt\u001b[0m\u001b[1;33m.\u001b[0m\u001b[0mscatter\u001b[0m\u001b[1;33m(\u001b[0m\u001b[0mxygrid\u001b[0m\u001b[1;33m[\u001b[0m\u001b[1;36m0\u001b[0m\u001b[1;33m]\u001b[0m\u001b[1;33m,\u001b[0m \u001b[0mxygrid\u001b[0m\u001b[1;33m[\u001b[0m\u001b[1;36m1\u001b[0m\u001b[1;33m]\u001b[0m\u001b[1;33m,\u001b[0m \u001b[0mc\u001b[0m\u001b[1;33m=\u001b[0m\u001b[0mcolors\u001b[0m\u001b[1;33m,\u001b[0m \u001b[0medgecolor\u001b[0m\u001b[1;33m=\u001b[0m\u001b[1;34m\"none\"\u001b[0m\u001b[1;33m)\u001b[0m\u001b[1;33m\u001b[0m\u001b[0m\n\u001b[0m\u001b[0;32m     41\u001b[0m \u001b[1;31m# Set axis limits\u001b[0m\u001b[1;33m\u001b[0m\u001b[1;33m\u001b[0m\u001b[0m\n\u001b[0;32m     42\u001b[0m \u001b[0mplt\u001b[0m\u001b[1;33m.\u001b[0m\u001b[0mgrid\u001b[0m\u001b[1;33m(\u001b[0m\u001b[1;32mTrue\u001b[0m\u001b[1;33m)\u001b[0m\u001b[1;33m\u001b[0m\u001b[0m\n",
      "\u001b[1;32m~\\Anaconda3\\lib\\site-packages\\matplotlib\\pyplot.py\u001b[0m in \u001b[0;36mscatter\u001b[1;34m(x, y, s, c, marker, cmap, norm, vmin, vmax, alpha, linewidths, verts, edgecolors, hold, data, **kwargs)\u001b[0m\n\u001b[0;32m   3468\u001b[0m                          \u001b[0mvmin\u001b[0m\u001b[1;33m=\u001b[0m\u001b[0mvmin\u001b[0m\u001b[1;33m,\u001b[0m \u001b[0mvmax\u001b[0m\u001b[1;33m=\u001b[0m\u001b[0mvmax\u001b[0m\u001b[1;33m,\u001b[0m \u001b[0malpha\u001b[0m\u001b[1;33m=\u001b[0m\u001b[0malpha\u001b[0m\u001b[1;33m,\u001b[0m\u001b[1;33m\u001b[0m\u001b[0m\n\u001b[0;32m   3469\u001b[0m                          \u001b[0mlinewidths\u001b[0m\u001b[1;33m=\u001b[0m\u001b[0mlinewidths\u001b[0m\u001b[1;33m,\u001b[0m \u001b[0mverts\u001b[0m\u001b[1;33m=\u001b[0m\u001b[0mverts\u001b[0m\u001b[1;33m,\u001b[0m\u001b[1;33m\u001b[0m\u001b[0m\n\u001b[1;32m-> 3470\u001b[1;33m                          edgecolors=edgecolors, data=data, **kwargs)\n\u001b[0m\u001b[0;32m   3471\u001b[0m     \u001b[1;32mfinally\u001b[0m\u001b[1;33m:\u001b[0m\u001b[1;33m\u001b[0m\u001b[0m\n\u001b[0;32m   3472\u001b[0m         \u001b[0max\u001b[0m\u001b[1;33m.\u001b[0m\u001b[0m_hold\u001b[0m \u001b[1;33m=\u001b[0m \u001b[0mwashold\u001b[0m\u001b[1;33m\u001b[0m\u001b[0m\n",
      "\u001b[1;32m~\\Anaconda3\\lib\\site-packages\\matplotlib\\__init__.py\u001b[0m in \u001b[0;36minner\u001b[1;34m(ax, *args, **kwargs)\u001b[0m\n\u001b[0;32m   1853\u001b[0m                         \u001b[1;34m\"the Matplotlib list!)\"\u001b[0m \u001b[1;33m%\u001b[0m \u001b[1;33m(\u001b[0m\u001b[0mlabel_namer\u001b[0m\u001b[1;33m,\u001b[0m \u001b[0mfunc\u001b[0m\u001b[1;33m.\u001b[0m\u001b[0m__name__\u001b[0m\u001b[1;33m)\u001b[0m\u001b[1;33m,\u001b[0m\u001b[1;33m\u001b[0m\u001b[0m\n\u001b[0;32m   1854\u001b[0m                         RuntimeWarning, stacklevel=2)\n\u001b[1;32m-> 1855\u001b[1;33m             \u001b[1;32mreturn\u001b[0m \u001b[0mfunc\u001b[0m\u001b[1;33m(\u001b[0m\u001b[0max\u001b[0m\u001b[1;33m,\u001b[0m \u001b[1;33m*\u001b[0m\u001b[0margs\u001b[0m\u001b[1;33m,\u001b[0m \u001b[1;33m**\u001b[0m\u001b[0mkwargs\u001b[0m\u001b[1;33m)\u001b[0m\u001b[1;33m\u001b[0m\u001b[0m\n\u001b[0m\u001b[0;32m   1856\u001b[0m \u001b[1;33m\u001b[0m\u001b[0m\n\u001b[0;32m   1857\u001b[0m         inner.__doc__ = _add_data_doc(inner.__doc__,\n",
      "\u001b[1;32m~\\Anaconda3\\lib\\site-packages\\matplotlib\\axes\\_axes.py\u001b[0m in \u001b[0;36mscatter\u001b[1;34m(self, x, y, s, c, marker, cmap, norm, vmin, vmax, alpha, linewidths, verts, edgecolors, **kwargs)\u001b[0m\n\u001b[0;32m   4277\u001b[0m                 raise ValueError(\"c of shape {} not acceptable as a color \"\n\u001b[0;32m   4278\u001b[0m                                  \u001b[1;34m\"sequence for x with size {}, y with size {}\"\u001b[0m\u001b[1;33m\u001b[0m\u001b[0m\n\u001b[1;32m-> 4279\u001b[1;33m                                  .format(c.shape, x.size, y.size))\n\u001b[0m\u001b[0;32m   4280\u001b[0m         \u001b[1;32melse\u001b[0m\u001b[1;33m:\u001b[0m\u001b[1;33m\u001b[0m\u001b[0m\n\u001b[0;32m   4281\u001b[0m             \u001b[0mcolors\u001b[0m \u001b[1;33m=\u001b[0m \u001b[1;32mNone\u001b[0m  \u001b[1;31m# use cmap, norm after collection is created\u001b[0m\u001b[1;33m\u001b[0m\u001b[0m\n",
      "\u001b[1;31mAttributeError\u001b[0m: 'list' object has no attribute 'shape'"
     ]
    },
    {
     "data": {
      "image/png": "[encoded data removed]",
      "text/plain": [
       "<Figure size 288x288 with 1 Axes>"
      ]
     },
     "metadata": {},
     "output_type": "display_data"
    }
   ],
   "source": [
    "# Visualizing 2D linear transformations as animated gifs\n",
    "#\n",
    "# Code originally created by: Raibatak Das\n",
    "# Date: Nov 2016, Final version Dec. 2016\n",
    "#\n",
    "# Modified by: Karl Schmitt\n",
    "# Modifications REMOVED significant portions for teaching purposes\n",
    "# Last Modified 8/23/18\n",
    "\n",
    "## PART 1\n",
    "\n",
    "import numpy as np\n",
    "import matplotlib as mpl\n",
    "import matplotlib.pyplot as plt\n",
    "\n",
    "# Create a grid of points in x-y space \n",
    "\n",
    "        # Hint: Use mgrid, but in 2-D space....\n",
    "xygrid = np.mgrid[-5:5:1, -5:5:1].reshape(2,-1).T\n",
    "print(xygrid)\n",
    "    \n",
    "    \n",
    "# Plot original grid points\n",
    "# This function assigns a unique color based on position\n",
    "def colorizer(x, y):\n",
    "    \"\"\"\n",
    "    Map x-y coordinates to a rgb color\n",
    "    \"\"\"\n",
    "    r = min(1, 1-y/3)\n",
    "    g = min(1, 1+y/3)\n",
    "    b = 1/4 + x/16\n",
    "    return (r, g, b)\n",
    "\n",
    "# Map grid coordinates to colors\n",
    "colors = list(map(colorizer, xygrid[:,0], xygrid[:,1]))\n",
    "print(np.array(colors).shape)\n",
    "\n",
    "# Plot x-y grid points \n",
    "plt.figure(figsize=(4, 4), facecolor=\"w\")\n",
    "plt.scatter(xygrid[0], xygrid[1], c=colors, edgecolor=\"none\")\n",
    "# Set axis limits\n",
    "plt.grid(True)\n",
    "plt.axis(\"equal\")\n",
    "plt.title(\"Original grid in x-y space\")\n",
    "\n",
    "# uncomment to save plot\n",
    "#plt.savefig(\"../figures/grid-original.png\", dpi=150)\n",
    "#plt.savefig(\"../figures/grid-original-small.png\", dpi=75)"
   ]
  },
  {
   "cell_type": "markdown",
   "metadata": {},
   "source": [
    "### Now we'll try some transformations and plot the changed points."
   ]
  },
  {
   "cell_type": "code",
   "execution_count": 9,
   "metadata": {},
   "outputs": [],
   "source": [
    "# Visualizing 2D linear transformations as animated gifs\n",
    "#\n",
    "# Code originally created by: Raibatak Das\n",
    "# Date: Nov 2016, Final version Dec. 2016\n",
    "#\n",
    "# Modified by: Karl Schmitt\n",
    "# Modifications REMOVED significant portions for teaching purposes\n",
    "# Last Modified 8/23/18\n",
    "\n",
    "## PART 2\n",
    "\n",
    "# Transform and plot the grid points"
   ]
  },
  {
   "cell_type": "markdown",
   "metadata": {},
   "source": [
    "In the cell below, apply a linear transformation using the matrix:\n",
    "\n",
    "        [[2,  1],\n",
    "         [-1,  1]]\n",
    "\n",
    "Store that new matrix as ``uvgrid``\n",
    "\n",
    "Hint: To do matrix multiplication, use: ``np.dot( <left matrix>, <right matrix> )``"
   ]
  },
  {
   "cell_type": "code",
   "execution_count": 23,
   "metadata": {},
   "outputs": [
    {
     "name": "stdout",
     "output_type": "stream",
     "text": [
      "[[ 2  1]\n",
      " [-1  1]]\n"
     ]
    }
   ],
   "source": [
    "# Apply linear transform\n",
    "a = np.array([[2,1],[-1,1]])\n",
    "print(a)\n",
    "uvgrid = np.matmul(xygrid, a)\n",
    "#print(uvgrid)"
   ]
  },
  {
   "cell_type": "code",
   "execution_count": 24,
   "metadata": {},
   "outputs": [
    {
     "ename": "AttributeError",
     "evalue": "'list' object has no attribute 'shape'",
     "output_type": "error",
     "traceback": [
      "\u001b[1;31m---------------------------------------------------------------------------\u001b[0m",
      "\u001b[1;31mKeyError\u001b[0m                                  Traceback (most recent call last)",
      "\u001b[1;32m~\\Anaconda3\\lib\\site-packages\\matplotlib\\colors.py\u001b[0m in \u001b[0;36mto_rgba\u001b[1;34m(c, alpha)\u001b[0m\n\u001b[0;32m    165\u001b[0m     \u001b[1;32mtry\u001b[0m\u001b[1;33m:\u001b[0m\u001b[1;33m\u001b[0m\u001b[0m\n\u001b[1;32m--> 166\u001b[1;33m         \u001b[0mrgba\u001b[0m \u001b[1;33m=\u001b[0m \u001b[0m_colors_full_map\u001b[0m\u001b[1;33m.\u001b[0m\u001b[0mcache\u001b[0m\u001b[1;33m[\u001b[0m\u001b[0mc\u001b[0m\u001b[1;33m,\u001b[0m \u001b[0malpha\u001b[0m\u001b[1;33m]\u001b[0m\u001b[1;33m\u001b[0m\u001b[0m\n\u001b[0m\u001b[0;32m    167\u001b[0m     \u001b[1;32mexcept\u001b[0m \u001b[1;33m(\u001b[0m\u001b[0mKeyError\u001b[0m\u001b[1;33m,\u001b[0m \u001b[0mTypeError\u001b[0m\u001b[1;33m)\u001b[0m\u001b[1;33m:\u001b[0m  \u001b[1;31m# Not in cache, or unhashable.\u001b[0m\u001b[1;33m\u001b[0m\u001b[0m\n",
      "\u001b[1;31mKeyError\u001b[0m: ((1, -0.6666666666666667, -0.0625), None)",
      "\nDuring handling of the above exception, another exception occurred:\n",
      "\u001b[1;31mValueError\u001b[0m                                Traceback (most recent call last)",
      "\u001b[1;32m~\\Anaconda3\\lib\\site-packages\\matplotlib\\axes\\_axes.py\u001b[0m in \u001b[0;36mscatter\u001b[1;34m(self, x, y, s, c, marker, cmap, norm, vmin, vmax, alpha, linewidths, verts, edgecolors, **kwargs)\u001b[0m\n\u001b[0;32m   4273\u001b[0m                 \u001b[1;31m# must be acceptable as PathCollection facecolors\u001b[0m\u001b[1;33m\u001b[0m\u001b[1;33m\u001b[0m\u001b[0m\n\u001b[1;32m-> 4274\u001b[1;33m                 \u001b[0mcolors\u001b[0m \u001b[1;33m=\u001b[0m \u001b[0mmcolors\u001b[0m\u001b[1;33m.\u001b[0m\u001b[0mto_rgba_array\u001b[0m\u001b[1;33m(\u001b[0m\u001b[0mc\u001b[0m\u001b[1;33m)\u001b[0m\u001b[1;33m\u001b[0m\u001b[0m\n\u001b[0m\u001b[0;32m   4275\u001b[0m             \u001b[1;32mexcept\u001b[0m \u001b[0mValueError\u001b[0m\u001b[1;33m:\u001b[0m\u001b[1;33m\u001b[0m\u001b[0m\n",
      "\u001b[1;32m~\\Anaconda3\\lib\\site-packages\\matplotlib\\colors.py\u001b[0m in \u001b[0;36mto_rgba_array\u001b[1;34m(c, alpha)\u001b[0m\n\u001b[0;32m    266\u001b[0m     \u001b[1;32mfor\u001b[0m \u001b[0mi\u001b[0m\u001b[1;33m,\u001b[0m \u001b[0mcc\u001b[0m \u001b[1;32min\u001b[0m \u001b[0menumerate\u001b[0m\u001b[1;33m(\u001b[0m\u001b[0mc\u001b[0m\u001b[1;33m)\u001b[0m\u001b[1;33m:\u001b[0m\u001b[1;33m\u001b[0m\u001b[0m\n\u001b[1;32m--> 267\u001b[1;33m         \u001b[0mresult\u001b[0m\u001b[1;33m[\u001b[0m\u001b[0mi\u001b[0m\u001b[1;33m]\u001b[0m \u001b[1;33m=\u001b[0m \u001b[0mto_rgba\u001b[0m\u001b[1;33m(\u001b[0m\u001b[0mcc\u001b[0m\u001b[1;33m,\u001b[0m \u001b[0malpha\u001b[0m\u001b[1;33m)\u001b[0m\u001b[1;33m\u001b[0m\u001b[0m\n\u001b[0m\u001b[0;32m    268\u001b[0m     \u001b[1;32mreturn\u001b[0m \u001b[0mresult\u001b[0m\u001b[1;33m\u001b[0m\u001b[0m\n",
      "\u001b[1;32m~\\Anaconda3\\lib\\site-packages\\matplotlib\\colors.py\u001b[0m in \u001b[0;36mto_rgba\u001b[1;34m(c, alpha)\u001b[0m\n\u001b[0;32m    167\u001b[0m     \u001b[1;32mexcept\u001b[0m \u001b[1;33m(\u001b[0m\u001b[0mKeyError\u001b[0m\u001b[1;33m,\u001b[0m \u001b[0mTypeError\u001b[0m\u001b[1;33m)\u001b[0m\u001b[1;33m:\u001b[0m  \u001b[1;31m# Not in cache, or unhashable.\u001b[0m\u001b[1;33m\u001b[0m\u001b[0m\n\u001b[1;32m--> 168\u001b[1;33m         \u001b[0mrgba\u001b[0m \u001b[1;33m=\u001b[0m \u001b[0m_to_rgba_no_colorcycle\u001b[0m\u001b[1;33m(\u001b[0m\u001b[0mc\u001b[0m\u001b[1;33m,\u001b[0m \u001b[0malpha\u001b[0m\u001b[1;33m)\u001b[0m\u001b[1;33m\u001b[0m\u001b[0m\n\u001b[0m\u001b[0;32m    169\u001b[0m         \u001b[1;32mtry\u001b[0m\u001b[1;33m:\u001b[0m\u001b[1;33m\u001b[0m\u001b[0m\n",
      "\u001b[1;32m~\\Anaconda3\\lib\\site-packages\\matplotlib\\colors.py\u001b[0m in \u001b[0;36m_to_rgba_no_colorcycle\u001b[1;34m(c, alpha)\u001b[0m\n\u001b[0;32m    228\u001b[0m     \u001b[1;32mif\u001b[0m \u001b[0many\u001b[0m\u001b[1;33m(\u001b[0m\u001b[0melem\u001b[0m \u001b[1;33m<\u001b[0m \u001b[1;36m0\u001b[0m \u001b[1;32mor\u001b[0m \u001b[0melem\u001b[0m \u001b[1;33m>\u001b[0m \u001b[1;36m1\u001b[0m \u001b[1;32mfor\u001b[0m \u001b[0melem\u001b[0m \u001b[1;32min\u001b[0m \u001b[0mc\u001b[0m\u001b[1;33m)\u001b[0m\u001b[1;33m:\u001b[0m\u001b[1;33m\u001b[0m\u001b[0m\n\u001b[1;32m--> 229\u001b[1;33m         \u001b[1;32mraise\u001b[0m \u001b[0mValueError\u001b[0m\u001b[1;33m(\u001b[0m\u001b[1;34m\"RGBA values should be within 0-1 range\"\u001b[0m\u001b[1;33m)\u001b[0m\u001b[1;33m\u001b[0m\u001b[0m\n\u001b[0m\u001b[0;32m    230\u001b[0m     \u001b[1;32mreturn\u001b[0m \u001b[0mc\u001b[0m\u001b[1;33m\u001b[0m\u001b[0m\n",
      "\u001b[1;31mValueError\u001b[0m: RGBA values should be within 0-1 range",
      "\nDuring handling of the above exception, another exception occurred:\n",
      "\u001b[1;31mAttributeError\u001b[0m                            Traceback (most recent call last)",
      "\u001b[1;32m<ipython-input-24-93e047beb862>\u001b[0m in \u001b[0;36m<module>\u001b[1;34m()\u001b[0m\n\u001b[0;32m     10\u001b[0m     \u001b[1;31m#plt.savefig(\"../figures/grid-transformed-small.png\", dpi=75)\u001b[0m\u001b[1;33m\u001b[0m\u001b[1;33m\u001b[0m\u001b[0m\n\u001b[0;32m     11\u001b[0m \u001b[1;33m\u001b[0m\u001b[0m\n\u001b[1;32m---> 12\u001b[1;33m \u001b[0mplot_transform\u001b[0m\u001b[1;33m(\u001b[0m\u001b[0muvgrid\u001b[0m\u001b[1;33m,\u001b[0m \u001b[0mcolors\u001b[0m\u001b[1;33m)\u001b[0m\u001b[1;33m\u001b[0m\u001b[0m\n\u001b[0m",
      "\u001b[1;32m<ipython-input-24-93e047beb862>\u001b[0m in \u001b[0;36mplot_transform\u001b[1;34m(uvgrid, colors)\u001b[0m\n\u001b[0;32m      2\u001b[0m     \u001b[1;31m# Plot transformed grid points\u001b[0m\u001b[1;33m\u001b[0m\u001b[1;33m\u001b[0m\u001b[0m\n\u001b[0;32m      3\u001b[0m     \u001b[0mplt\u001b[0m\u001b[1;33m.\u001b[0m\u001b[0mfigure\u001b[0m\u001b[1;33m(\u001b[0m\u001b[0mfigsize\u001b[0m\u001b[1;33m=\u001b[0m\u001b[1;33m(\u001b[0m\u001b[1;36m4\u001b[0m\u001b[1;33m,\u001b[0m \u001b[1;36m4\u001b[0m\u001b[1;33m)\u001b[0m\u001b[1;33m,\u001b[0m \u001b[0mfacecolor\u001b[0m\u001b[1;33m=\u001b[0m\u001b[1;34m\"w\"\u001b[0m\u001b[1;33m)\u001b[0m\u001b[1;33m\u001b[0m\u001b[0m\n\u001b[1;32m----> 4\u001b[1;33m     \u001b[0mplt\u001b[0m\u001b[1;33m.\u001b[0m\u001b[0mscatter\u001b[0m\u001b[1;33m(\u001b[0m\u001b[0muvgrid\u001b[0m\u001b[1;33m[\u001b[0m\u001b[1;36m0\u001b[0m\u001b[1;33m]\u001b[0m\u001b[1;33m,\u001b[0m \u001b[0muvgrid\u001b[0m\u001b[1;33m[\u001b[0m\u001b[1;36m1\u001b[0m\u001b[1;33m]\u001b[0m\u001b[1;33m,\u001b[0m \u001b[0mc\u001b[0m\u001b[1;33m=\u001b[0m\u001b[0mcolors\u001b[0m\u001b[1;33m,\u001b[0m \u001b[0medgecolor\u001b[0m\u001b[1;33m=\u001b[0m\u001b[1;34m\"none\"\u001b[0m\u001b[1;33m)\u001b[0m\u001b[1;33m\u001b[0m\u001b[0m\n\u001b[0m\u001b[0;32m      5\u001b[0m     \u001b[0mplt\u001b[0m\u001b[1;33m.\u001b[0m\u001b[0mgrid\u001b[0m\u001b[1;33m(\u001b[0m\u001b[1;32mTrue\u001b[0m\u001b[1;33m)\u001b[0m\u001b[1;33m\u001b[0m\u001b[0m\n\u001b[0;32m      6\u001b[0m     \u001b[0mplt\u001b[0m\u001b[1;33m.\u001b[0m\u001b[0maxis\u001b[0m\u001b[1;33m(\u001b[0m\u001b[1;34m\"equal\"\u001b[0m\u001b[1;33m)\u001b[0m\u001b[1;33m\u001b[0m\u001b[0m\n",
      "\u001b[1;32m~\\Anaconda3\\lib\\site-packages\\matplotlib\\pyplot.py\u001b[0m in \u001b[0;36mscatter\u001b[1;34m(x, y, s, c, marker, cmap, norm, vmin, vmax, alpha, linewidths, verts, edgecolors, hold, data, **kwargs)\u001b[0m\n\u001b[0;32m   3468\u001b[0m                          \u001b[0mvmin\u001b[0m\u001b[1;33m=\u001b[0m\u001b[0mvmin\u001b[0m\u001b[1;33m,\u001b[0m \u001b[0mvmax\u001b[0m\u001b[1;33m=\u001b[0m\u001b[0mvmax\u001b[0m\u001b[1;33m,\u001b[0m \u001b[0malpha\u001b[0m\u001b[1;33m=\u001b[0m\u001b[0malpha\u001b[0m\u001b[1;33m,\u001b[0m\u001b[1;33m\u001b[0m\u001b[0m\n\u001b[0;32m   3469\u001b[0m                          \u001b[0mlinewidths\u001b[0m\u001b[1;33m=\u001b[0m\u001b[0mlinewidths\u001b[0m\u001b[1;33m,\u001b[0m \u001b[0mverts\u001b[0m\u001b[1;33m=\u001b[0m\u001b[0mverts\u001b[0m\u001b[1;33m,\u001b[0m\u001b[1;33m\u001b[0m\u001b[0m\n\u001b[1;32m-> 3470\u001b[1;33m                          edgecolors=edgecolors, data=data, **kwargs)\n\u001b[0m\u001b[0;32m   3471\u001b[0m     \u001b[1;32mfinally\u001b[0m\u001b[1;33m:\u001b[0m\u001b[1;33m\u001b[0m\u001b[0m\n\u001b[0;32m   3472\u001b[0m         \u001b[0max\u001b[0m\u001b[1;33m.\u001b[0m\u001b[0m_hold\u001b[0m \u001b[1;33m=\u001b[0m \u001b[0mwashold\u001b[0m\u001b[1;33m\u001b[0m\u001b[0m\n",
      "\u001b[1;32m~\\Anaconda3\\lib\\site-packages\\matplotlib\\__init__.py\u001b[0m in \u001b[0;36minner\u001b[1;34m(ax, *args, **kwargs)\u001b[0m\n\u001b[0;32m   1853\u001b[0m                         \u001b[1;34m\"the Matplotlib list!)\"\u001b[0m \u001b[1;33m%\u001b[0m \u001b[1;33m(\u001b[0m\u001b[0mlabel_namer\u001b[0m\u001b[1;33m,\u001b[0m \u001b[0mfunc\u001b[0m\u001b[1;33m.\u001b[0m\u001b[0m__name__\u001b[0m\u001b[1;33m)\u001b[0m\u001b[1;33m,\u001b[0m\u001b[1;33m\u001b[0m\u001b[0m\n\u001b[0;32m   1854\u001b[0m                         RuntimeWarning, stacklevel=2)\n\u001b[1;32m-> 1855\u001b[1;33m             \u001b[1;32mreturn\u001b[0m \u001b[0mfunc\u001b[0m\u001b[1;33m(\u001b[0m\u001b[0max\u001b[0m\u001b[1;33m,\u001b[0m \u001b[1;33m*\u001b[0m\u001b[0margs\u001b[0m\u001b[1;33m,\u001b[0m \u001b[1;33m**\u001b[0m\u001b[0mkwargs\u001b[0m\u001b[1;33m)\u001b[0m\u001b[1;33m\u001b[0m\u001b[0m\n\u001b[0m\u001b[0;32m   1856\u001b[0m \u001b[1;33m\u001b[0m\u001b[0m\n\u001b[0;32m   1857\u001b[0m         inner.__doc__ = _add_data_doc(inner.__doc__,\n",
      "\u001b[1;32m~\\Anaconda3\\lib\\site-packages\\matplotlib\\axes\\_axes.py\u001b[0m in \u001b[0;36mscatter\u001b[1;34m(self, x, y, s, c, marker, cmap, norm, vmin, vmax, alpha, linewidths, verts, edgecolors, **kwargs)\u001b[0m\n\u001b[0;32m   4277\u001b[0m                 raise ValueError(\"c of shape {} not acceptable as a color \"\n\u001b[0;32m   4278\u001b[0m                                  \u001b[1;34m\"sequence for x with size {}, y with size {}\"\u001b[0m\u001b[1;33m\u001b[0m\u001b[0m\n\u001b[1;32m-> 4279\u001b[1;33m                                  .format(c.shape, x.size, y.size))\n\u001b[0m\u001b[0;32m   4280\u001b[0m         \u001b[1;32melse\u001b[0m\u001b[1;33m:\u001b[0m\u001b[1;33m\u001b[0m\u001b[0m\n\u001b[0;32m   4281\u001b[0m             \u001b[0mcolors\u001b[0m \u001b[1;33m=\u001b[0m \u001b[1;32mNone\u001b[0m  \u001b[1;31m# use cmap, norm after collection is created\u001b[0m\u001b[1;33m\u001b[0m\u001b[0m\n",
      "\u001b[1;31mAttributeError\u001b[0m: 'list' object has no attribute 'shape'"
     ]
    },
    {
     "data": {
      "image/png": "[encoded data removed]",
      "text/plain": [
       "<Figure size 288x288 with 1 Axes>"
      ]
     },
     "metadata": {},
     "output_type": "display_data"
    }
   ],
   "source": [
    "def plot_transform(uvgrid, colors):\n",
    "    # Plot transformed grid points\n",
    "    plt.figure(figsize=(4, 4), facecolor=\"w\")\n",
    "    plt.scatter(uvgrid[0], uvgrid[1], c=colors, edgecolor=\"none\")\n",
    "    plt.grid(True)\n",
    "    plt.axis(\"equal\")\n",
    "    plt.title(\"Transformed grid in u-v space\")\n",
    "    # uncomment to save plot\n",
    "    #plt.savefig(\"../figures/grid-transformed.png\", dpi=150)\n",
    "    #plt.savefig(\"../figures/grid-transformed-small.png\", dpi=75)\n",
    "    \n",
    "plot_transform(uvgrid, colors)"
   ]
  },
  {
   "cell_type": "markdown",
   "metadata": {},
   "source": [
    "Let's animate this transformation!"
   ]
  },
  {
   "cell_type": "code",
   "execution_count": null,
   "metadata": {
    "collapsed": true
   },
   "outputs": [],
   "source": [
    "# To animate the transform, we generate a series of intermediates\n",
    "# Function to compute all intermediate transforms\n",
    "def stepwise_transform(a, points, nsteps=30):\n",
    "    '''\n",
    "    Generate a series of intermediate transform for the matrix multiplication\n",
    "      np.dot(a, points) # matrix multiplication\n",
    "    starting with the identity matrix, where\n",
    "      a: 2-by-2 matrix\n",
    "      points: 2-by-n array of coordinates in x-y space \n",
    "    returns a (nsteps + 1)x2xn array\n",
    "    '''\n",
    "    # create empty array of the right size\n",
    "    transgrid = np.zeros((nsteps+1,) + np.shape(points))\n",
    "    for j in range(nsteps+1):\n",
    "        intermediate = np.eye(2) + j/nsteps*(a - np.eye(2)) # compute intermediate matrix\n",
    "        transgrid[j] = np.dot(intermediate, points) # apply intermediate matrix transformation\n",
    "    return transgrid\n",
    "\n",
    "# Apply to x-y grid\n",
    "steps = 30\n",
    "transform = stepwise_transform(a, xygrid, nsteps=steps)\n",
    "\n",
    "# Create a series of figures showing the intermediate transforms\n",
    "def make_plots(transarray, color, outdir=\"png-frames\", figuresize=(4,4), figuredpi=150):\n",
    "    '''\n",
    "    Generate a series of png images showing a linear transformation stepwise\n",
    "    '''\n",
    "    nsteps = transarray.shape[0]\n",
    "    ndigits = len(str(nsteps)) # to determine filename padding\n",
    "    maxval = np.abs(transarray.max()) # to set axis limits\n",
    "    # create directory if necessary\n",
    "    import os\n",
    "    if not os.path.exists(outdir):\n",
    "        os.makedirs(outdir)\n",
    "    # create figure\n",
    "    plt.ioff()\n",
    "    fig = plt.figure(figsize=figuresize, facecolor=\"w\")\n",
    "    for j in range(nsteps): # plot individual frames\n",
    "        plt.cla()\n",
    "        plt.scatter(transarray[j,0], transarray[j,1], s=36, c=color, edgecolor=\"none\")\n",
    "        plt.xlim(1.1*np.array([-maxval, maxval]))\n",
    "        plt.ylim(1.1*np.array([-maxval, maxval]))\n",
    "        plt.grid(True)\n",
    "        plt.draw()\n",
    "        # save as png\n",
    "        outfile = os.path.join(outdir, \"frame-\" + str(j+1).zfill(ndigits) + \".png\")\n",
    "        fig.savefig(outfile, dpi=figuredpi)\n",
    "    plt.ion()\n",
    "\n",
    "# Generate figures\n",
    "make_plots(transform, colors, outdir=\"tmp\")"
   ]
  },
  {
   "cell_type": "markdown",
   "metadata": {},
   "source": [
    "The following code for making a gif may not work on every system..."
   ]
  },
  {
   "cell_type": "code",
   "execution_count": null,
   "metadata": {
    "collapsed": true
   },
   "outputs": [],
   "source": [
    "# Convert to gif (works on linux/os-x, requires image-magick)\n",
    "from subprocess import call\n",
    "call(\"cd png-frames && convert -delay 10 frame-*.png ../animation.gif\", shell=True)\n",
    "# Optional: clean up png files\n",
    "call(\"rm -f png-frames/*.png\", shell=True)"
   ]
  },
  {
   "cell_type": "markdown",
   "metadata": {},
   "source": [
    "Alright, time for some more challenging transformations...\n",
    "\n",
    "Here I'll just specify what the transformation.. you'll need to determine what the matrix looks like!"
   ]
  },
  {
   "cell_type": "code",
   "execution_count": null,
   "metadata": {
    "collapsed": true
   },
   "outputs": [],
   "source": [
    "# Example 2: Rotation\n",
    "# 60 degree clockwise rotation  -- Hint, you'll need sin and cos...\n",
    "a = \n",
    "print(a)\n",
    "uvgrid = # generate!\n",
    "plot_transform(uvgrid, colors)\n",
    "\n",
    "#Make animations\n",
    "# Generate intermediates\n",
    "transform = stepwise_transform(a, xygrid, nsteps=steps)\n",
    "make_plots(transform, colors)\n",
    "# see above to create gif\n",
    "\n",
    "# Example 3: Shear\n",
    "a =  # shear along x-axis\n",
    "print(a)\n",
    "uvgrid = # generate!\n",
    "plot_transform(uvgrid, colors)\n",
    "\n",
    "#Make animations\n",
    "# Generate intermediates\n",
    "transform = stepwise_transform(a, xygrid, nsteps=steps)\n",
    "make_plots(transform, colors)\n",
    "# see above to create gif\n",
    "\n",
    "# Example 4: Permutation\n",
    "a = \n",
    "print(a)\n",
    "uvgrid = # generate!\n",
    "plot_transform(uvgrid, colors)\n",
    "\n",
    "#Make animations\n",
    "# Generate intermediates\n",
    "transform = stepwise_transform(a, xygrid, nsteps=steps)\n",
    "make_plots(transform, colors)\n",
    "# see above to create gif\n",
    "\n",
    "# Example 5: Projection\n",
    "a = \n",
    "print(a)\n",
    "uvgrid = # generate!\n",
    "plot_transform(uvgrid, colors)\n",
    "\n",
    "#Make animations\n",
    "# Generate intermediates\n",
    "transform = stepwise_transform(a, xygrid, nsteps=steps)\n",
    "make_plots(transform, colors)\n",
    "# see above to create gif"
   ]
  },
  {
   "cell_type": "markdown",
   "metadata": {},
   "source": [
    "## Picture manipulation: Framing a Face\n",
    "------------------------------------\n",
    "\n",
    "Let's do some manipulations on numpy arrays by starting with an image\n",
    "of a racoon.  ``scipy`` provides a 2D array of this image with the\n",
    "``scipy.misc.face`` function::"
   ]
  },
  {
   "cell_type": "code",
   "execution_count": null,
   "metadata": {
    "collapsed": true
   },
   "outputs": [],
   "source": [
    "from scipy import misc\n",
    "face = misc.face(gray=True)  # 2D grayscale image"
   ]
  },
  {
   "cell_type": "markdown",
   "metadata": {},
   "source": [
    "Here are a few images we will be able to obtain with our manipulations:\n",
    "use different colormaps, crop the image, change some parts of the image.\n",
    "\n",
    "* Create an array of the image with a narrower centering : for example,\n",
    "    remove 100 pixels from all the borders of the image. To check the result,\n",
    "    display this new array with ``imshow``.\n",
    "\n",
    "* We will now frame the face with a black locket. For this, we\n",
    "    need to create a mask corresponding to the pixels we want to be\n",
    "    black. The center of the face is around (660, 330), so we defined\n",
    "    the mask by this condition ``(y-300)**2 + (x-660)**2``\n",
    "\n",
    "    Change the circle to an ellipsoid.\n"
   ]
  }
 ],
 "metadata": {
  "kernelspec": {
   "display_name": "Python 3",
   "language": "python",
   "name": "python3"
  },
  "language_info": {
   "codemirror_mode": {
    "name": "ipython",
    "version": 3
   },
   "file_extension": ".py",
   "mimetype": "text/x-python",
   "name": "python",
   "nbconvert_exporter": "python",
   "pygments_lexer": "ipython3",
   "version": "3.6.6"
  }
 },
 "nbformat": 4,
 "nbformat_minor": 2
}
